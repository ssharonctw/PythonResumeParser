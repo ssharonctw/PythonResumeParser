{
 "cells": [
  {
   "cell_type": "code",
   "execution_count": 1,
   "id": "793b3e2a",
   "metadata": {},
   "outputs": [],
   "source": [
    "#load the library\n",
    "import spacy"
   ]
  },
  {
   "cell_type": "code",
   "execution_count": 2,
   "id": "2c97fe6a",
   "metadata": {},
   "outputs": [],
   "source": [
    "#load the english language model\n",
    "#that will contain tokenizer, tagger, parser, NER and word vectors\n",
    "nlp = spacy.load(\"en_core_web_sm\")"
   ]
  },
  {
   "cell_type": "code",
   "execution_count": 3,
   "id": "3c4d7122",
   "metadata": {},
   "outputs": [
    {
     "data": {
      "text/plain": [
       "'Google was initially funded by an August 1998 contribution of $100,000 from Andy Bechtolsheim, co-founder of Sun Microsystems; the money was given before Google was incorporated.[30] Google received money from three other angel investors in 1998: Amazon.com founder Jeff Bezos, Stanford University computer science professor David Cheriton, and entrepreneur Ram Shriram.[31] Between these initial investors, friends, and family Google raised around 1 million dollars, which is what allowed them to open up their original shop in Menlo Park, California'"
      ]
     },
     "execution_count": 3,
     "metadata": {},
     "output_type": "execute_result"
    }
   ],
   "source": [
    "# Process whole documents\n",
    "text = \"Google was initially funded by an August 1998 contribution of $100,000 from Andy Bechtolsheim, co-founder of Sun Microsystems; the money was given before Google was incorporated.[30] Google received money from three other angel investors in 1998: Amazon.com founder Jeff Bezos, Stanford University computer science professor David Cheriton, and entrepreneur Ram Shriram.[31] Between these initial investors, friends, and family Google raised around 1 million dollars, which is what allowed them to open up their original shop in Menlo Park, California\"\n",
    "text"
   ]
  },
  {
   "cell_type": "code",
   "execution_count": 4,
   "id": "f0816a90",
   "metadata": {},
   "outputs": [
    {
     "data": {
      "text/plain": [
       "Google was initially funded by an August 1998 contribution of $100,000 from Andy Bechtolsheim, co-founder of Sun Microsystems; the money was given before Google was incorporated.[30] Google received money from three other angel investors in 1998: Amazon.com founder Jeff Bezos, Stanford University computer science professor David Cheriton, and entrepreneur Ram Shriram.[31] Between these initial investors, friends, and family Google raised around 1 million dollars, which is what allowed them to open up their original shop in Menlo Park, California"
      ]
     },
     "execution_count": 4,
     "metadata": {},
     "output_type": "execute_result"
    }
   ],
   "source": [
    "#use the language \n",
    "doc = nlp(text)\n",
    "doc"
   ]
  },
  {
   "cell_type": "code",
   "execution_count": 5,
   "id": "3cc443bf",
   "metadata": {},
   "outputs": [
    {
     "name": "stdout",
     "output_type": "stream",
     "text": [
      "Google\n",
      "was\n",
      "initially\n",
      "funded\n",
      "by\n",
      "an\n",
      "August\n",
      "1998\n",
      "contribution\n",
      "of\n",
      "$\n",
      "100,000\n",
      "from\n",
      "Andy\n",
      "Bechtolsheim\n",
      ",\n",
      "co\n",
      "-\n",
      "founder\n",
      "of\n",
      "Sun\n",
      "Microsystems\n",
      ";\n",
      "the\n",
      "money\n",
      "was\n",
      "given\n",
      "before\n",
      "Google\n",
      "was\n",
      "incorporated.[30\n",
      "]\n",
      "Google\n",
      "received\n",
      "money\n",
      "from\n",
      "three\n",
      "other\n",
      "angel\n",
      "investors\n",
      "in\n",
      "1998\n",
      ":\n",
      "Amazon.com\n",
      "founder\n",
      "Jeff\n",
      "Bezos\n",
      ",\n",
      "Stanford\n",
      "University\n",
      "computer\n",
      "science\n",
      "professor\n",
      "David\n",
      "Cheriton\n",
      ",\n",
      "and\n",
      "entrepreneur\n",
      "Ram\n",
      "Shriram.[31\n",
      "]\n",
      "Between\n",
      "these\n",
      "initial\n",
      "investors\n",
      ",\n",
      "friends\n",
      ",\n",
      "and\n",
      "family\n",
      "Google\n",
      "raised\n",
      "around\n",
      "1\n",
      "million\n",
      "dollars\n",
      ",\n",
      "which\n",
      "is\n",
      "what\n",
      "allowed\n",
      "them\n",
      "to\n",
      "open\n",
      "up\n",
      "their\n",
      "original\n",
      "shop\n",
      "in\n",
      "Menlo\n",
      "Park\n",
      ",\n",
      "California\n"
     ]
    }
   ],
   "source": [
    "#word tokenization = spliting input text word by word\n",
    "for token in doc:\n",
    "    print(token)"
   ]
  },
  {
   "cell_type": "code",
   "execution_count": 8,
   "id": "3ce7729a",
   "metadata": {},
   "outputs": [
    {
     "name": "stdout",
     "output_type": "stream",
     "text": [
      "contribution\n",
      "co\n",
      "-\n",
      "founder\n",
      "money\n",
      "money\n",
      "angel\n",
      "investors\n",
      "founder\n",
      "computer\n",
      "science\n",
      "professor\n",
      "entrepreneur\n",
      "investors\n",
      "friends\n",
      "family\n",
      "dollars\n",
      "shop\n"
     ]
    }
   ],
   "source": [
    "#only noun\n",
    "for token in doc:\n",
    "    if token.pos_ == \"NOUN\": #can change to ADJ, VERB, ...etc\n",
    "        print(token)"
   ]
  },
  {
   "cell_type": "code",
   "execution_count": 7,
   "id": "43fc0bee",
   "metadata": {},
   "outputs": [
    {
     "name": "stdout",
     "output_type": "stream",
     "text": [
      "August 1998 DATE\n",
      "100,000 MONEY\n",
      "Andy Bechtolsheim PERSON\n",
      "Sun Microsystems ORG\n",
      "Google ORG\n",
      "three CARDINAL\n",
      "1998 DATE\n",
      "Amazon.com ORG\n",
      "Jeff Bezos PERSON\n",
      "Stanford University ORG\n",
      "David Cheriton PERSON\n",
      "Ram Shriram.[31 PERSON\n",
      "Google ORG\n",
      "around 1 million dollars MONEY\n",
      "Menlo Park GPE\n",
      "California GPE\n"
     ]
    }
   ],
   "source": [
    "#names entity recognition: identifying names, date, organization...etc\n",
    "for entity in doc.ents:\n",
    "        print(entity.text, entity.label_) \n",
    "#entity.text is the original entity content\n",
    "#entity.label_ is the category of the entity content"
   ]
  }
 ],
 "metadata": {
  "kernelspec": {
   "display_name": "Python 3 (ipykernel)",
   "language": "python",
   "name": "python3"
  },
  "language_info": {
   "codemirror_mode": {
    "name": "ipython",
    "version": 3
   },
   "file_extension": ".py",
   "mimetype": "text/x-python",
   "name": "python",
   "nbconvert_exporter": "python",
   "pygments_lexer": "ipython3",
   "version": "3.9.7"
  }
 },
 "nbformat": 4,
 "nbformat_minor": 5
}
