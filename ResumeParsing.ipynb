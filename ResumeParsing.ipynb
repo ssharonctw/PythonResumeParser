{
 "cells": [
  {
   "cell_type": "code",
   "execution_count": 1,
   "id": "3570582f",
   "metadata": {},
   "outputs": [],
   "source": [
    "#load all packages required for the project\n",
    "import spacy #for nlp\n",
    "import pdfminer #pdf to txt\n",
    "import re #regex\n",
    "import os #file manip\n",
    "import pandas as pd #csv - tabular\n",
    "import pdf2txt #converting pdf to  txt"
   ]
  },
  {
   "cell_type": "code",
   "execution_count": 2,
   "id": "b82838ab",
   "metadata": {},
   "outputs": [],
   "source": [
    "#converting pdf to txt\n",
    "#this function takes one argument: the file name\n",
    "def convert_pdf(f):\n",
    "    #1. Creating output filename \n",
    "    #parsed through name.pdf -> name.txt\n",
    "    output_filename = os.path.basename(os.path.splitext(f)[0]) + \".txt\"\n",
    "    \n",
    "    #2. Creating output filepath\n",
    "    #the folder in the same directory is output/txt/ \n",
    "    #so add output file name after the folder\n",
    "    output_filepath = os.path.join(\"output/txt/\", output_filename)\n",
    "    \n",
    "    #3. convert the input pdf to output txt with pdf2txt\n",
    "    #pdf2txt main function takes [intputFileName, outputFile, outputFilepath]\n",
    "    #convert pdf to txt and save it in the given location\n",
    "    pdf2txt.main(args=[f, \"--outfile\", output_filepath]) \n",
    "    print(output_filepath + \" saved successfully!!!\")\n",
    "    \n",
    "    #4. return the outputted file in read mode\n",
    "    return open(output_filepath, encoding=\"utf-8\").read()"
   ]
  },
  {
   "cell_type": "code",
   "execution_count": 3,
   "id": "bdb01ec6",
   "metadata": {},
   "outputs": [],
   "source": [
    "# load the language model\n",
    "nlp = spacy.load(\"en_core_web_sm\")"
   ]
  },
  {
   "cell_type": "code",
   "execution_count": 4,
   "id": "8fdeb44e",
   "metadata": {},
   "outputs": [],
   "source": [
    "#Creating place holder for output\n",
    "#a.k.a. dictionary structure which stores the four key info (4 columns)\n",
    "result_dict = {'name': [], 'phone': [], 'email': [], 'skills': []} \n",
    "names = []\n",
    "phones = []\n",
    "emails = []\n",
    "skills = []"
   ]
  },
  {
   "cell_type": "code",
   "execution_count": 5,
   "id": "eeef7355",
   "metadata": {},
   "outputs": [
    {
     "name": "stderr",
     "output_type": "stream",
     "text": [
      "<>:11: SyntaxWarning: \"is\" with a literal. Did you mean \"==\"?\n",
      "<>:11: SyntaxWarning: \"is\" with a literal. Did you mean \"==\"?\n",
      "C:\\Users\\sshar\\AppData\\Local\\Temp/ipykernel_3840/1355052614.py:11: SyntaxWarning: \"is\" with a literal. Did you mean \"==\"?\n",
      "  name = [entity.text for entity in doc.ents if entity.label_ is \"PERSON\"][0]\n"
     ]
    }
   ],
   "source": [
    "#To parse the content and store in output placeholder\n",
    "def parse_content(text):\n",
    "    \n",
    "    #annotate before using spacy for entity identifying\n",
    "    doc = nlp(text)\n",
    "    \n",
    "    #1. Get name \n",
    "    #use list comprehension to replace for loop\n",
    "    #whenever recognized entity is person, then return the entity.text\n",
    "    #name are assumed to be the first name detected\n",
    "    name = [entity.text for entity in doc.ents if entity.label_ is \"PERSON\"][0]\n",
    "    print(name)\n",
    "    \n",
    "    #2. Get email\n",
    "    #list comprehension to replace for loop\n",
    "    #whenever recognized word is email, then return the word\n",
    "    email = [word for word in doc if word.like_email == True][0]\n",
    "    print(email)\n",
    "    \n",
    "    #3. Find all skills that matches\n",
    "    # change all to lower case first to resolve case issues (normalizing)\n",
    "    skillset = re.compile(\"python|java|sql|hadoop|tableau\") #define regex\n",
    "    skills_list = re.findall(skillset, text.lower()) #pass defined reges into findAll\n",
    "    #convert multiples to set, since we don't want duplicate values for the same skill\n",
    "    #and then convert the sets to string\n",
    "    unique_skills_list = str(set(skills_list)) \n",
    "    \n",
    "    #4. Use regex to identify phone_num\n",
    "    # change all to lower case first to resolve case issues\n",
    "    phone_num = re.compile(\n",
    "        \"(\\d{3}[-\\.\\s]??\\d{3}[-\\.\\s]??\\d{4}|\\(\\d{3}\\)\\s*\\d{3}[-\\.\\s]??\\d{4}|\\d{3}[-\\.\\s]??\\d{4})\"\n",
    "    )#define regex\n",
    "    phone = str(re.findall(phone_num, text.lower()))#pass defined reges into findAll, and conver to string object\n",
    "    \n",
    "    \n",
    "    names.append(name)\n",
    "    emails.append(email)\n",
    "    phones.append(phone)\n",
    "    skills.append(unique_skills_list)\n",
    "    print(\"Extraction completed successfully!!!\")"
   ]
  },
  {
   "cell_type": "code",
   "execution_count": 6,
   "id": "d084d194",
   "metadata": {},
   "outputs": [
    {
     "name": "stdout",
     "output_type": "stream",
     "text": [
      "Reading.....Alisson ParkerCV.pdf\n",
      "output/txt/Alisson ParkerCV.txt saved successfully!!!\n",
      "Alisson Parker-Wright                                                                                                 \n",
      "alli1414parks@mail.com\n",
      "Extraction completed successfully!!!\n",
      "Reading.....AshleyMilesCV.pdf\n",
      "output/txt/AshleyMilesCV.txt saved successfully!!!\n",
      "Ashley Miles\n",
      "ashleymiles@memail.com\n",
      "Extraction completed successfully!!!\n",
      "Reading.....John DominicCV.pdf\n",
      "output/txt/John DominicCV.txt saved successfully!!!\n",
      "John Dominic\n",
      "johndominic@mail.com\n",
      "Extraction completed successfully!!!\n"
     ]
    }
   ],
   "source": [
    "#list all files in the resume folder\n",
    "#iterate through all resumes that are pdf\n",
    "for file in os.listdir('resumes/'):\n",
    "    if file.endswith('.pdf'):\n",
    "        print('Reading.....' + file)\n",
    "        txt = convert_pdf(os.path.join('resumes/',file))\n",
    "        parse_content(txt)"
   ]
  },
  {
   "cell_type": "code",
   "execution_count": 7,
   "id": "a77f5535",
   "metadata": {},
   "outputs": [],
   "source": [
    "result_dict['name'] = names\n",
    "result_dict['phone'] = phones\n",
    "result_dict['email'] = emails\n",
    "result_dict['skills'] = skills\n",
    "#print(result_dict)"
   ]
  },
  {
   "cell_type": "code",
   "execution_count": 8,
   "id": "4063e08f",
   "metadata": {},
   "outputs": [
    {
     "data": {
      "text/html": [
       "<div>\n",
       "<style scoped>\n",
       "    .dataframe tbody tr th:only-of-type {\n",
       "        vertical-align: middle;\n",
       "    }\n",
       "\n",
       "    .dataframe tbody tr th {\n",
       "        vertical-align: top;\n",
       "    }\n",
       "\n",
       "    .dataframe thead th {\n",
       "        text-align: right;\n",
       "    }\n",
       "</style>\n",
       "<table border=\"1\" class=\"dataframe\">\n",
       "  <thead>\n",
       "    <tr style=\"text-align: right;\">\n",
       "      <th></th>\n",
       "      <th>name</th>\n",
       "      <th>phone</th>\n",
       "      <th>email</th>\n",
       "      <th>skills</th>\n",
       "    </tr>\n",
       "  </thead>\n",
       "  <tbody>\n",
       "    <tr>\n",
       "      <th>0</th>\n",
       "      <td>Alisson Parker-Wright                         ...</td>\n",
       "      <td>['8569878511']</td>\n",
       "      <td>alli1414parks@mail.com</td>\n",
       "      <td>{'python', 'tableau', 'java'}</td>\n",
       "    </tr>\n",
       "    <tr>\n",
       "      <th>1</th>\n",
       "      <td>Ashley Miles</td>\n",
       "      <td>['6592251422']</td>\n",
       "      <td>ashleymiles@memail.com</td>\n",
       "      <td>{'sql', 'tableau'}</td>\n",
       "    </tr>\n",
       "    <tr>\n",
       "      <th>2</th>\n",
       "      <td>John Dominic</td>\n",
       "      <td>['7877756411']</td>\n",
       "      <td>johndominic@mail.com</td>\n",
       "      <td>{'python', 'java', 'hadoop'}</td>\n",
       "    </tr>\n",
       "  </tbody>\n",
       "</table>\n",
       "</div>"
      ],
      "text/plain": [
       "                                                name           phone  \\\n",
       "0  Alisson Parker-Wright                         ...  ['8569878511']   \n",
       "1                                       Ashley Miles  ['6592251422']   \n",
       "2                                       John Dominic  ['7877756411']   \n",
       "\n",
       "                    email                         skills  \n",
       "0  alli1414parks@mail.com  {'python', 'tableau', 'java'}  \n",
       "1  ashleymiles@memail.com             {'sql', 'tableau'}  \n",
       "2    johndominic@mail.com   {'python', 'java', 'hadoop'}  "
      ]
     },
     "execution_count": 8,
     "metadata": {},
     "output_type": "execute_result"
    }
   ],
   "source": [
    "#convert the dictionary to pandas dataframe to store to csv\n",
    "result_df = pd.DataFrame(result_dict)\n",
    "result_df"
   ]
  },
  {
   "cell_type": "code",
   "execution_count": 9,
   "id": "e00c5719",
   "metadata": {},
   "outputs": [],
   "source": [
    "result_df.to_csv('output/csv/parsed_resumes.csv')"
   ]
  }
 ],
 "metadata": {
  "kernelspec": {
   "display_name": "Python 3 (ipykernel)",
   "language": "python",
   "name": "python3"
  },
  "language_info": {
   "codemirror_mode": {
    "name": "ipython",
    "version": 3
   },
   "file_extension": ".py",
   "mimetype": "text/x-python",
   "name": "python",
   "nbconvert_exporter": "python",
   "pygments_lexer": "ipython3",
   "version": "3.9.7"
  }
 },
 "nbformat": 4,
 "nbformat_minor": 5
}
